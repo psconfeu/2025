{
 "cells": [
  {
   "cell_type": "markdown",
   "metadata": {
    "polyglot_notebook": {
     "kernelName": "pwsh"
    }
   },
   "source": [
    "# The Human Side of PowerShell Scripting"
   ]
  },
  {
   "cell_type": "markdown",
   "metadata": {},
   "source": [
    "## PowerShell Conference Europe 2025\n",
    "\n",
    "![Swedish Flag](images/flag.jpg)\n",
    "### Jeff Hicks\n",
    "\n",
    "<div style = \"background-color:rgb(226, 220, 220); padding-bottom: 25px;padding-top:10px;padding-left: 10px; padding-right: 10px; width:60%\">\n",
    "<img src=\"images/hicks.png\" alt=\"Jeff Hicks\" align=\"left\" vertical-align=\"top\" style=\"padding-right: 10px ;padding-bottom: 25px;\"/>\n",
    "\n",
    "- 35-year IT Professional\n",
    "- 19-year Microsoft MVP\n",
    "- PowerShell Author \n",
    "- PowerShell Teacher\n",
    "- https://jdhitsolutions.github.io\n",
    "  \n",
    "### ![MVP Logo](images/mvp-logo.png)"
   ]
  },
  {
   "cell_type": "markdown",
   "metadata": {},
   "source": [
    "![Sponsors](images/psconfeu-sponsors.png)"
   ]
  },
  {
   "cell_type": "markdown",
   "metadata": {},
   "source": [
    "## What Are We Talking About?\n",
    "\n",
    "- Any one can learn PowerShell's syntax and mechanics. Let's focus on the *squishy* in-between bits\n",
    "- What you should write\n",
    "- What __not__ to write"
   ]
  },
  {
   "cell_type": "markdown",
   "metadata": {},
   "source": [
    "<details><summary><b>PowerShell Essential Concepts</b></summary>\n",
    "\n",
    "<details><summary>Critical</summary>\n",
    "\n",
    "- PowerShell doesn't exist in a vacuum\n",
    "<details><summary>AI</summary>\n",
    "\n",
    "- AI tools are great for generating ___syntax___\n",
    "<details><summary>PowerShell is not syntax</summary>\n",
    "\n",
    "- There is more to PowerShell than syntax and mechanics\n",
    "<details><summary>PowerShell is People</summary>\n",
    "\n",
    "- __People__ are the most important part of any PowerShell scripting project\n",
    "- Better PowerShell code is *crafted* not generated.\n",
    "</details>\n",
    "<details><summary>Focus</summary>\n",
    "\n",
    "- __*Don't focus on the specifics of my code samples. Focus on the concepts.*__\n",
    "</details>"
   ]
  },
  {
   "cell_type": "markdown",
   "metadata": {},
   "source": [
    "### Command Execution\n",
    "\n",
    "<details><summary>Execution Details</summary>\n",
    "\n",
    "- __Who__ will be using your code?\n",
    "- __What__ are their expectations?\n",
    "- __Where__ are they executing your code?\n",
    "- __How__ can you ensure success and make the code as frictionless as possible?\n",
    "</details>"
   ]
  },
  {
   "cell_type": "markdown",
   "metadata": {},
   "source": [
    "### Input\n",
    "\n",
    "- Don't force users to jump through hoops to use your code"
   ]
  },
  {
   "cell_type": "code",
   "execution_count": null,
   "metadata": {
    "polyglot_notebook": {
     "kernelName": "pwsh"
    }
   },
   "outputs": [],
   "source": [
    "Function Get-DriveInfo {\n",
    "    [CmdletBinding()]\n",
    "    Param(\n",
    "        [Parameter(Position = 0)]\n",
    "        [string]$DriveLetter = \"C:\"\n",
    "    )\n",
    "\n",
    "    $data = Get-CimInstance -ClassName Win32_Volume -filter \"DriveLetter = '$DriveLetter'\"\n",
    "    Write-Host \"Processing $($data.Name)\" -ForegroundColor Green\n",
    "    # code continues ...\n",
    "}\n",
    "\n",
    "#Sample usage\n",
    "Get-DriveInfo c\n",
    "Get-DriveInfo C:\\"
   ]
  },
  {
   "cell_type": "code",
   "execution_count": null,
   "metadata": {
    "polyglot_notebook": {
     "kernelName": "pwsh"
    }
   },
   "outputs": [],
   "source": [
    "#you are forcing them to remember the colon\n",
    "Get-DriveInfo C:"
   ]
  },
  {
   "cell_type": "code",
   "execution_count": null,
   "metadata": {
    "polyglot_notebook": {
     "kernelName": "pwsh"
    }
   },
   "outputs": [],
   "source": [
    "# Your code should do the work, not the user\n",
    "Function Get-DriveInfo {\n",
    "    [CmdletBinding()]\n",
    "    Param(\n",
    "        [Parameter(Position = 0)]\n",
    "        [ValidatePattern(\"^[A-Za-z]\",ErrorMessage=\"{0} is an invalid drive letter.\")]\n",
    "        [string]$Drive = \"C\"\n",
    "    )\n",
    "\n",
    "    $DriveLetter = \"$($Drive):\"\n",
    "    $data = Get-CimInstance -ClassName Win32_Volume -filter \"DriveLetter = '$DriveLetter'\"\n",
    "    if ($data) {\n",
    "        Write-Host \"Processing $($data.Name)\" -ForegroundColor Green\n",
    "        # code continues ...\n",
    "    } else {\n",
    "        Write-Warning \"Drive $DriveLetter not found.\"\n",
    "    }\n",
    "}\n",
    "\n",
    "Get-DriveInfo c\n",
    "Get-DriveInfo Z"
   ]
  },
  {
   "cell_type": "code",
   "execution_count": null,
   "metadata": {
    "polyglot_notebook": {
     "kernelName": "pwsh"
    }
   },
   "outputs": [],
   "source": [
    "#give the user options with tab-completion\n",
    "Function Get-DriveInfo {\n",
    "    [CmdletBinding()]\n",
    "    Param(\n",
    "        [Parameter(Position = 0)]\n",
    "        #add an argument completer for the drive names from win32_LogicalDisk\n",
    "        [ArgumentCompleter({\n",
    "            [OutputType([System.Management.Automation.CompletionResult])]\n",
    "            param(\n",
    "                [string]$CommandName,\n",
    "                [string]$ParameterName,\n",
    "                [string]$WordToComplete,\n",
    "                [System.Management.Automation.Language.CommandAst] $CommandAst,\n",
    "                [System.Collections.IDictionary] $FakeBoundParameters\n",
    "            )\n",
    "\n",
    "            $CompletionResults = [System.Collections.Generic.List[System.Management.Automation.CompletionResult]]::new()\n",
    "\n",
    "            $DriveLetters = Get-CimInstance -ClassName Win32_LogicalDisk | Select-Object -ExpandProperty DeviceID\n",
    "            foreach ($DriveLetter in $DriveLetters) {\n",
    "                if ($DriveLetter -like \"$WordToComplete*\") {\n",
    "                    $CompletionResults.Add((New-Object System.Management.Automation.CompletionResult($DriveLetter, $DriveLetter, 'ParameterValue', $DriveLetter)))\n",
    "                }\n",
    "            }\n",
    "\n",
    "            return $CompletionResults\n",
    "        })]\n",
    "        [ValidatePattern(\"^[A-Za-z]:\",ErrorMessage=\"{0} is an invalid drive letter.\")]\n",
    "        #reverting back because now it is easy for the user to enter valid values\n",
    "        [string]$Drive = \"C:\"\n",
    "    )\n",
    "\n",
    "    $data = Get-CimInstance -ClassName Win32_Volume -filter \"DriveLetter = '$Drive'\"\n",
    "    if ($data) {\n",
    "        Write-Host \"Processing $($data.Name)\" -ForegroundColor Green\n",
    "        # code continues ...\n",
    "    } else {\n",
    "        Write-Warning \"Drive $DriveLetter not found.\"\n",
    "    }\n",
    "}\n",
    "\n",
    "# Demo in the live console"
   ]
  },
  {
   "cell_type": "markdown",
   "metadata": {},
   "source": [
    "### No Assumptions\n",
    "\n",
    "- Don't assume the user will enter parameter values the same way you do\n",
    "- Parameter values can come from anywhere\n",
    "- This is why we have parameter validation and cast to type"
   ]
  },
  {
   "cell_type": "code",
   "execution_count": null,
   "metadata": {
    "polyglot_notebook": {
     "kernelName": "pwsh"
    }
   },
   "outputs": [],
   "source": [
    "Function Save-Data {\n",
    "    [cmdletbinding()]\n",
    "    Param(\n",
    "        [Parameter(Position = 0,HelpMessage = \"Specify the path to save.\")]\n",
    "        [ValidateScript({Test-Path $_ },ErrorMessage = \"The path {0} does not exist.\")]\n",
    "        [ValidateNotNullOrEmpty()]\n",
    "        [string]$Path = \".\",\n",
    "\n",
    "        [ValidateNotNullOrEmpty()]\n",
    "        [PSCredential]$Credential,\n",
    "\n",
    "        [switch]$Force\n",
    "    )\n",
    "\n",
    "    $cPath = Convert-Path -Path $path\n",
    "    Write-Host \"Saving data from $cPath\" -ForegroundColor cyan\n",
    "    #code that needs a normal file system path\n",
    "}"
   ]
  },
  {
   "cell_type": "code",
   "execution_count": null,
   "metadata": {
    "polyglot_notebook": {
     "kernelName": "pwsh"
    }
   },
   "outputs": [],
   "source": [
    "# sample normal execution\n",
    "$p = Get-ChildItem \"c:\\scripts\\data\"\n",
    "Save-Data -path $p -Force"
   ]
  },
  {
   "cell_type": "code",
   "execution_count": null,
   "metadata": {
    "polyglot_notebook": {
     "kernelName": "pwsh"
    }
   },
   "outputs": [],
   "source": [
    "# but a user may be trying this\n",
    "$p = Get-ChildItem c:\\scripts\\data -directory\n",
    "Save-Data $p -force"
   ]
  },
  {
   "cell_type": "code",
   "execution_count": null,
   "metadata": {
    "polyglot_notebook": {
     "kernelName": "pwsh"
    }
   },
   "outputs": [],
   "source": [
    "#or doesn't exist\n",
    "Save-Data X:\\foo"
   ]
  },
  {
   "cell_type": "markdown",
   "metadata": {},
   "source": [
    "## But try to plan\n",
    "\n",
    "- What is a likely usage scenario?\n",
    "- How can your code be easier to use?\n",
    "- Consider the use of aliases, pipeline input, and parameter sets"
   ]
  },
  {
   "cell_type": "code",
   "execution_count": null,
   "metadata": {
    "polyglot_notebook": {
     "kernelName": "pwsh"
    }
   },
   "outputs": [],
   "source": [
    "Function Backup-ADComputer {\n",
    "    [cmdletbinding()]\n",
    "    Param(\n",
    "        [Parameter(Position = 0,Mandatory,ValueFromPipelineByPropertyName)]\n",
    "        [string]$Computername\n",
    "    )\n",
    "    Begin {}\n",
    "    Process {\n",
    "        Write-Host \"Backing up $Computername\" -ForegroundColor cyan\n",
    "        #code\n",
    "    }\n",
    "    End {}\n",
    "}\n",
    "\n",
    "Backup-ADComputer SRV1"
   ]
  },
  {
   "cell_type": "markdown",
   "metadata": {},
   "source": [
    "```powershell\n",
    "Get-ADComputer -Filter * | Backup-ADComputer\n",
    "```\n",
    "\n",
    "![AD Fail](images\\adcomputer-pipeline-fail.png)\n"
   ]
  },
  {
   "cell_type": "markdown",
   "metadata": {},
   "source": [
    "Checking the object properties.\n",
    "\n",
    "```powershell\n",
    "PS C:\\Users\\ArtD> Get-ADComputer SRV1 | Select *\n",
    "\n",
    "\n",
    "DistinguishedName  : CN=SRV1,CN=Computers,DC=Company,DC=Pri\n",
    "DNSHostName        : SRV1.Company.Pri\n",
    "Enabled            : True\n",
    "Name               : SRV1\n",
    "ObjectClass        : computer\n",
    "ObjectGUID         : 12ca78f8-fddb-47dd-9675-30f819174052\n",
    "SamAccountName     : SRV1$\n",
    "SID                : S-1-5-21-4162762804-1525231989-1793280658-1104\n",
    "UserPrincipalName  :\n",
    "PropertyNames      : {DistinguishedName, DNSHostName, Enabled, Name...}\n",
    "AddedProperties    : {}\n",
    "RemovedProperties  : {}\n",
    "ModifiedProperties : {}\n",
    "PropertyCount      : 9\n",
    "```"
   ]
  },
  {
   "cell_type": "markdown",
   "metadata": {},
   "source": [
    "Normally, I would do this in my function:\n",
    "\n",
    "```powershell\n",
    "[Alias(\"Name\")]\n",
    "[string]$Computername\n",
    "```\n",
    "\n",
    "But the AD cmdlets are *weird*. This is one way to make this work with minimal effort."
   ]
  },
  {
   "cell_type": "code",
   "execution_count": null,
   "metadata": {
    "polyglot_notebook": {
     "kernelName": "pwsh"
    }
   },
   "outputs": [],
   "source": [
    "Function Backup-ADComputer {\n",
    "    [cmdletbinding()]\n",
    "    Param(\n",
    "        [Parameter(\n",
    "            Position = 0,\n",
    "            Mandatory,\n",
    "            ValueFromPipelineByPropertyName\n",
    "        )]\n",
    "        [Alias(\"ComputerName\")]\n",
    "        [string]$Name\n",
    "    )\n",
    "    Begin {}\n",
    "    Process {\n",
    "        Write-Host \"Backing up $Name\" -ForegroundColor cyan\n",
    "        #code\n",
    "    }\n",
    "    End {}\n",
    "}"
   ]
  },
  {
   "cell_type": "markdown",
   "metadata": {},
   "source": [
    "```powershell\n",
    "PS C:\\Users\\ArtD> Get-ADComputer -Filter \"name -like 'srv*'\" | Backup-ADComputer\n",
    "Backing up SRV1\n",
    "Backing up SRV2\n",
    "```\n",
    "\n",
    "However, the alias will still be detected and used."
   ]
  },
  {
   "cell_type": "code",
   "execution_count": null,
   "metadata": {
    "polyglot_notebook": {
     "kernelName": "pwsh"
    }
   },
   "outputs": [],
   "source": [
    "Import-CSV c:\\scripts\\company.csv"
   ]
  },
  {
   "cell_type": "code",
   "execution_count": null,
   "metadata": {
    "polyglot_notebook": {
     "kernelName": "pwsh"
    }
   },
   "outputs": [],
   "source": [
    "Import-CSV c:\\scripts\\company.csv | Backup-ADComputer"
   ]
  },
  {
   "cell_type": "markdown",
   "metadata": {},
   "source": [
    "### Parameters set can also give the user options."
   ]
  },
  {
   "cell_type": "markdown",
   "metadata": {
    "polyglot_notebook": {
     "kernelName": "pwsh"
    }
   },
   "source": [
    "```powershell\n",
    "Function Backup-ADComputer {\n",
    "    [cmdletbinding(DefaultParameterSetName = \"ByName\")]\n",
    "    Param(\n",
    "        [Parameter(\n",
    "            Position = 0,\n",
    "            ValueFromPipelineByPropertyName,\n",
    "            ParameterSetName = \"ByName\"\n",
    "        )]\n",
    "        [alias(\"Name\",\"CN\")]\n",
    "        [ValidateNotNullOrEmpty()]\n",
    "        [string]$Computername = $env:COMPUTERNAME,\n",
    "        [Parameter(\n",
    "            Mandatory,\n",
    "            ValueFromPipeline,\n",
    "            ParameterSetName = \"ByADComputer\"\n",
    "        )]\n",
    "        [ValidateNotNullOrEmpty()]\n",
    "        [Microsoft.ActiveDirectory.Management.ADComputer]$ADComputer\n",
    "    )\n",
    "    Begin {}\n",
    "    Process {\n",
    "        Write-Verbose \"Detected parameter set $($PSCmdlet.ParameterSetName)\"\n",
    "        if ($PSCmdlet.ParameterSetName -eq \"byADComputer\") {\n",
    "            $Computername = $ADComputer.Name\n",
    "        }\n",
    "        Write-Host \"Backing up $Computername\" -ForegroundColor cyan\n",
    "        #code\n",
    "    }\n",
    "    End {}\n",
    "}\n",
    "```"
   ]
  },
  {
   "cell_type": "markdown",
   "metadata": {},
   "source": [
    "### Parameter sets exposed in the syntax.\n",
    "\n",
    "```powershell\n",
    "PS C:\\> Get-Command Backup-ADComputer -Syntax\n",
    "\n",
    "Backup-ADComputer [[-Computername] <string>] [<CommonParameters>]\n",
    "\n",
    "Backup-ADComputer -ADComputer <ADComputer> [<CommonParameters>]\n",
    "```"
   ]
  },
  {
   "cell_type": "markdown",
   "metadata": {},
   "source": [
    "#### Example"
   ]
  },
  {
   "cell_type": "markdown",
   "metadata": {},
   "source": [
    "```powershell\n",
    "PS C:\\Users\\ArtD> Get-ADComputer -filter \"OperatingSystem -like '*server*'\" | Backup-ADComputer -Verbose\n",
    "VERBOSE: Detected parameter set ByADComputer\n",
    "Backing up DOM1\n",
    "VERBOSE: Detected parameter set ByADComputer\n",
    "Backing up SRV1\n",
    "VERBOSE: Detected parameter set ByADComputer\n",
    "Backing up SRV2\n",
    "VERBOSE: Detected parameter set ByADComputer\n",
    "Backing up DOM2\n",
    "```\n",
    "\n",
    "Or using names\n",
    "\n",
    "```powershell\n",
    "PS C:\\> Import-CSV c:\\scripts\\company.csv | where class -ne client | Backup-ADComputer -verbose\n",
    "VERBOSE: Detected parameter set ByName\n",
    "Backing up Dom1\n",
    "VERBOSE: Detected parameter set ByName\n",
    "Backing up Dom2\n",
    "VERBOSE: Detected parameter set ByName\n",
    "Backing up Srv1\n",
    "VERBOSE: Detected parameter set ByName\n",
    "Backing up Srv2\n",
    "PS C:\\> \n",
    "```"
   ]
  },
  {
   "cell_type": "markdown",
   "metadata": {},
   "source": [
    "## Command Execution\n",
    "\n",
    "- Give the user meaningful feedback\n",
    "- Use `Write-Verbose` and `Write-Debug` to provide additional information\n",
    "- Use `Write-Information` to capture process and data information"
   ]
  },
  {
   "cell_type": "code",
   "execution_count": null,
   "metadata": {
    "polyglot_notebook": {
     "kernelName": "pwsh"
    }
   },
   "outputs": [],
   "source": [
    "c:\\scripts\\loadbsky.ps1\n",
    "Start-BskySession"
   ]
  },
  {
   "cell_type": "code",
   "execution_count": null,
   "metadata": {
    "polyglot_notebook": {
     "kernelName": "pwsh"
    }
   },
   "outputs": [],
   "source": [
    "Get-BskyProfile -verbose"
   ]
  },
  {
   "cell_type": "code",
   "execution_count": null,
   "metadata": {
    "polyglot_notebook": {
     "kernelName": "pwsh"
    }
   },
   "outputs": [],
   "source": [
    "start https://github.com/jdhitsolutions/PSBluesky/blob/main/functions/Get-PSBlueSkyProfile.ps1"
   ]
  },
  {
   "cell_type": "code",
   "execution_count": null,
   "metadata": {
    "polyglot_notebook": {
     "kernelName": "pwsh"
    }
   },
   "outputs": [],
   "source": [
    "# My load script automatically saves Information stream\n",
    "$iv[0].MessageData"
   ]
  },
  {
   "cell_type": "code",
   "execution_count": null,
   "metadata": {
    "polyglot_notebook": {
     "kernelName": "pwsh"
    }
   },
   "outputs": [],
   "source": [
    "$n = Get-BskyFeed\n",
    "$iv[-1].MessageData"
   ]
  },
  {
   "cell_type": "markdown",
   "metadata": {},
   "source": [
    "## Output and Objects\n",
    "\n",
    "- It is impossible to know all the ways someone will consume your code\n",
    "- But try to anticipate likely scenarios\n",
    "- Write the richest output possible\n",
    "- Separate formatting from the output"
   ]
  },
  {
   "cell_type": "code",
   "execution_count": null,
   "metadata": {
    "polyglot_notebook": {
     "kernelName": "pwsh"
    }
   },
   "outputs": [],
   "source": [
    "# Simple function output\n",
    "Function Resolve-WhoIs {\n",
    "    [CmdletBinding()]\n",
    "    Param(\n",
    "        [Parameter(Position = 0,Mandatory,ValueFromPipeline)]\n",
    "        [string]$IPAddress\n",
    "    )\n",
    "    Begin {\n",
    "        Write-Verbose \"Starting $($MyInvocation.MyCommand)\"\n",
    "        $baseURL = 'http://whois.arin.net/rest'\n",
    "    }\n",
    "    Process {\n",
    "        Write-Verbose \"Resolving IP $IPAddress\"\n",
    "        $url = \"$baseUrl/ip/$IPAddress\"\n",
    "        $r = Invoke-RestMethod $url\n",
    "        if ($r.net) {\n",
    "            [PSCustomObject]@{\n",
    "                IP                     = $IPAddress\n",
    "                Name                   = $r.net.name\n",
    "                RegisteredOrganization = $r.net.orgRef.name\n",
    "            }\n",
    "        }\n",
    "    }\n",
    "    End {\n",
    "        Write-Verbose \"Ending $($MyInvocation.MyCommand)\"\n",
    "    }\n",
    "}\n",
    "\n",
    "Resolve-WhoIs 8.8.8.8"
   ]
  },
  {
   "cell_type": "code",
   "execution_count": null,
   "metadata": {
    "polyglot_notebook": {
     "kernelName": "pwsh"
    }
   },
   "outputs": [],
   "source": [
    "# Rich function output\n",
    "Function Resolve-WhoIs {\n",
    "    [CmdletBinding()]\n",
    "    Param(\n",
    "        [Parameter(Position = 0,Mandatory,ValueFromPipeline)]\n",
    "        [string]$IPAddress\n",
    "    )\n",
    "    Begin {\n",
    "        Write-Verbose \"Starting $($MyInvocation.MyCommand)\"\n",
    "        $baseURL = 'http://whois.arin.net/rest'\n",
    "    }\n",
    "    Process {\n",
    "        Write-Verbose \"Resolving IP $IPAddress\"\n",
    "\n",
    "        $url = \"$baseUrl/ip/$IPAddress\"\n",
    "        $r = Invoke-RestMethod $url\n",
    "        if ($r.net) {\n",
    "            $NetBlocks = $r.net.netBlocks.netBlock |\n",
    "            ForEach-Object { \"$($_.StartAddress)/$($_.cidrLength)\" }\n",
    "            $City = (Invoke-RestMethod $r.net.orgRef.'#text').org.city\n",
    "\n",
    "            [PSCustomObject]@{\n",
    "                PSTypeName             = 'WhoIsResult'\n",
    "                IP                     = $IPAddress\n",
    "                Name                   = $r.net.name\n",
    "                RegisteredOrganization = $r.net.orgRef.Name\n",
    "                OrganizationHandle     = $r.net.orgRef.Handle\n",
    "                City                   = $City\n",
    "                StartAddress           = $r.net.startAddress\n",
    "                EndAddress             = $r.net.endAddress\n",
    "                NetBlocks              = $NetBlocks\n",
    "                Updated                = $r.net.updateDate -as [DateTime]\n",
    "            }\n",
    "        }\n",
    "    }\n",
    "    End {\n",
    "        Write-Verbose \"Ending $($MyInvocation.MyCommand)\"\n",
    "    }\n",
    "}\n",
    "\n",
    "Resolve-WhoIs 8.8.8.8"
   ]
  },
  {
   "cell_type": "markdown",
   "metadata": {},
   "source": [
    "### A Complete Example\n",
    "\n",
    "Here is a working function.\n",
    "\n",
    "- Follows best practices\n",
    "- Writes an object to the pipeline"
   ]
  },
  {
   "cell_type": "code",
   "execution_count": null,
   "metadata": {
    "polyglot_notebook": {
     "kernelName": "pwsh"
    }
   },
   "outputs": [],
   "source": [
    "#requires -version 7.5\n",
    "\n",
    "Function Get-BasicFileExtensionInfo {\n",
    "    #this is functioning code but not ideal\n",
    "    [cmdletbinding()]\n",
    "    Param(\n",
    "        [string]$Path = \".\",\n",
    "        [switch]$Recurse,\n",
    "        [switch]$Hidden\n",
    "    )\n",
    "\n",
    "    Begin {\n",
    "        $enumOpt = [System.IO.EnumerationOptions]::new()\n",
    "        if ($Recurse) {\n",
    "            $enumOpt.RecurseSubdirectories = $Recurse\n",
    "        }\n",
    "        if ($Hidden) {\n",
    "            $enumOpt.AttributesToSkip = 2\n",
    "        }\n",
    "    }\n",
    "\n",
    "    Process {\n",
    "        $dir = Get-Item -Path $Path\n",
    "        $dir.GetFiles('*', $enumOpt) |\n",
    "        Group-Object -Property extension -PipelineVariable pv |\n",
    "        Foreach-Object {\n",
    "          $_.Group | Measure-Object -Property length -Minimum -Maximum -Average -Sum\n",
    "        } | Select-Object @{Name=\"Path\";Expression={$Path}},\n",
    "        @{Name=\"Extension\";Expression={$pv.Name.Replace('.', '')}},Count,\n",
    "        @{Name=\"TotalSize\";Expression={$_.Sum}},\n",
    "        @{Name=\"SmallestSize\";Expression={$_.Minimum}},\n",
    "        @{Name=\"LargestSize\";Expression={$_.Maximum}},\n",
    "        @{Name=\"AverageSize\";Expression={$_.Average}}\n",
    "    }\n",
    "}\n",
    "\n",
    "Get-BasicFileExtensionInfo c:\\temp | Sort TotalSize -descending | Format-Table"
   ]
  },
  {
   "cell_type": "markdown",
   "metadata": {},
   "source": [
    "### A more human-centered version\n",
    "\n",
    "- Where have I added value?\n",
    "- How is this easier to use?\n",
    "- How is this easier to maintain?"
   ]
  },
  {
   "cell_type": "code",
   "execution_count": null,
   "metadata": {
    "polyglot_notebook": {
     "kernelName": "pwsh"
    }
   },
   "outputs": [],
   "source": [
    "#requires -version 7.5\n",
    "\n",
    "#Get-FileExtensionInfo.ps1\n",
    "\n",
    "using namespace System.Collections.generic\n",
    "\n",
    "Function Get-FileExtensionInfo {\n",
    "    #TODO  comment-based help\n",
    "    [cmdletbinding()]\n",
    "    [alias('gfei')]\n",
    "    [OutputType('FileExtensionInfo')]\n",
    "    Param(\n",
    "        [Parameter(\n",
    "            Position = 0,\n",
    "            ValueFromPipeline,\n",
    "            HelpMessage = 'Specify the root directory path to search'\n",
    "        )]\n",
    "        [ValidateNotNullOrEmpty()]\n",
    "        [ValidateScript({ Test-Path $_ },ErrorMessage = 'Cannot find or verify the path {0}.')]\n",
    "        [string]$Path = '.',\n",
    "\n",
    "        [Parameter(HelpMessage = 'Recurse through all folders.')]\n",
    "        [switch]$Recurse,\n",
    "\n",
    "        [Parameter(HelpMessage = 'Include files in hidden folders')]\n",
    "        [switch]$Hidden,\n",
    "\n",
    "        [Parameter(HelpMessage = 'Add the corresponding collection of files')]\n",
    "        [Switch]$IncludeFiles\n",
    "    )\n",
    "\n",
    "    Begin {\n",
    "        Write-Information -MessageData $MyInvocation\n",
    "        #define a version for this stand-alone function\n",
    "        $ver = '1.3.0'\n",
    "        Write-Verbose \"[$((Get-Date).TimeOfDay) BEGIN  ] Starting $($MyInvocation.MyCommand) v$ver\"\n",
    "        Write-Verbose \"[$((Get-Date).TimeOfDay) BEGIN  ] Running PowerShell version $($PSVersionTable.PSVersion)\"\n",
    "        Write-Verbose \"[$((Get-Date).TimeOfDay) BEGIN  ] Using PowerShell Host $($Host.Name)\"\n",
    "        #capture the current date and time for the audit date\n",
    "        $report = Get-Date\n",
    "\n",
    "        $enumOpt = [System.IO.EnumerationOptions]::new()\n",
    "        if ($Recurse) {\n",
    "            Write-Verbose \"[$((Get-Date).TimeOfDay) BEGIN  ] Getting files recursively\"\n",
    "            $enumOpt.RecurseSubdirectories = $Recurse\n",
    "        }\n",
    "        if ($Hidden) {\n",
    "            Write-Verbose \"[$((Get-Date).TimeOfDay) BEGIN  ] Including hidden files\"\n",
    "            $enumOpt.AttributesToSkip = 2\n",
    "        }\n",
    "        Write-Information -MessageData $enumOpt\n",
    "        #initialize a list to hold the results\n",
    "        $list = [list[object]]::new()\n",
    "\n",
    "        #determine the platform. This will return a value like Linux, MacOS, or Windows\n",
    "        $platform = (Get-Variable IsWindows, IsMacOS, IsLinux | where { $_.value }).Name -replace 'is', ''\n",
    "    } #begin\n",
    "\n",
    "    Process {\n",
    "        Write-Information -MessageData $PSBoundParameters\n",
    "        #convert the path to a file system path\n",
    "        $cPath = Convert-Path -Path $Path\n",
    "\n",
    "        Write-Verbose \"[$((Get-Date).TimeOfDay) PROCESS] Processing $cPath\"\n",
    "        $dir = Get-Item -Path $cPath\n",
    "        #using the .NET GetFiles() method for performance.\n",
    "        #the enumOption is not available in Windows PowerShell\n",
    "        $files = $dir.GetFiles('*', $enumOpt)\n",
    "\n",
    "        Write-Verbose \"[$((Get-Date).TimeOfDay) PROCESS] Getting the total sum of all files\"\n",
    "        $TotalSum = $files | Measure-Object -Property length -Sum\n",
    "        Write-Information -MessageData $TotalSum\n",
    "        Write-Verbose \"[$((Get-Date).TimeOfDay) PROCESS] Found $($files.count) files\"\n",
    "        $group = $files | Group-Object -Property extension\n",
    "\n",
    "        #Group and measure\n",
    "        foreach ($item in $group) {\n",
    "            Write-Information -MessageData $item.Group\n",
    "            Write-Verbose \"[$((Get-Date).TimeOfDay) PROCESS] Measuring $($item.count) $($item.name) files\"\n",
    "            $measure = $item.Group | Measure-Object -Property length -Minimum -Maximum -Average -Sum\n",
    "\n",
    "            #create a custom object\n",
    "            $out = [PSCustomObject]@{\n",
    "                PSTypeName       = 'FileExtensionInfo'\n",
    "                Path             = $cPath\n",
    "                Extension        = $item.Name.Replace('.', '')\n",
    "                Count            = $item.Count\n",
    "                PercentTotal     = [math]::Round(($item.Count / $files.Count), 2) #<-- cast as double for sorting\n",
    "                TotalSize        = $measure.Sum  #<-- don't format numbers here\n",
    "                TotalSizePercent = [math]::Round(($measure.Sum / $TotalSum.Sum), 4)\n",
    "                SmallestSize     = $measure.Minimum\n",
    "                LargestSize      = $measure.Maximum\n",
    "                AverageSize      = $measure.Average\n",
    "                Computername     = [System.Environment]::MachineName  #<-- extra information\n",
    "                Platform         = $platform  #<-- extra information\n",
    "                ReportDate       = $report  #<-- extra information\n",
    "                Files            = $IncludeFiles ? $item.group : $null  #<-- extra information\n",
    "                IsLargest        = $False  #<-- extra information\n",
    "            }\n",
    "            $list.Add($out)\n",
    "        }\n",
    "    } #process\n",
    "\n",
    "    End {\n",
    "        #mark the extension with the largest total size\n",
    "        ($list | Sort-Object -Property TotalSize, Count)[-1].IsLargest = $True\n",
    "        #write the results to the pipeline\n",
    "        $list\n",
    "        Write-Verbose \"[$((Get-Date).TimeOfDay) END    ] Ending $($MyInvocation.MyCommand)\"\n",
    "    } #end\n",
    "} #close Get-FileExtensionInfo"
   ]
  },
  {
   "cell_type": "code",
   "execution_count": null,
   "metadata": {
    "polyglot_notebook": {
     "kernelName": "pwsh"
    }
   },
   "outputs": [],
   "source": [
    "$r = Get-FileExtensionInfo c:\\presentations -recurse -verbose"
   ]
  },
  {
   "cell_type": "code",
   "execution_count": null,
   "metadata": {
    "polyglot_notebook": {
     "kernelName": "pwsh"
    }
   },
   "outputs": [],
   "source": [
    "$r | Get-Random -count 1 | Select *"
   ]
  },
  {
   "cell_type": "markdown",
   "metadata": {},
   "source": [
    "Let's make it even more human-centered."
   ]
  },
  {
   "cell_type": "code",
   "execution_count": null,
   "metadata": {
    "polyglot_notebook": {
     "kernelName": "pwsh"
    }
   },
   "outputs": [],
   "source": [
    "#Add an alias property\n",
    "Update-TypeData -TypeName FileExtensionInfo -MemberType AliasProperty -MemberName Total -Value TotalSize -Force\n",
    "#Add script properties\n",
    "Update-TypeData -TypeName FileExtensionInfo -MemberType ScriptProperty -MemberName TotalMB -value { $this.TotalSize/1mb} -Force\n",
    "Update-TypeData -TypeName FileExtensionInfo -MemberType ScriptProperty -MemberName TotalKB -value { $this.TotalSize/1kb} -Force\n",
    "#Add a custom format file\n",
    "Update-FormatData C:\\presentations\\WorkplaceNinjaUK\\Toolmaking\\code-samples\\FileExtensionInfo.format.ps1xml"
   ]
  },
  {
   "cell_type": "markdown",
   "metadata": {},
   "source": [
    "### Sample Output\n",
    "![File Extension Info](images/fileextensioninfo.png)"
   ]
  },
  {
   "cell_type": "code",
   "execution_count": null,
   "metadata": {
    "polyglot_notebook": {
     "kernelName": "pwsh"
    }
   },
   "outputs": [],
   "source": [
    "$r | Format-Table -view TotalMB"
   ]
  },
  {
   "cell_type": "code",
   "execution_count": null,
   "metadata": {
    "polyglot_notebook": {
     "kernelName": "pwsh"
    }
   },
   "outputs": [],
   "source": [
    "$r | where IsLargest"
   ]
  },
  {
   "cell_type": "code",
   "execution_count": null,
   "metadata": {
    "polyglot_notebook": {
     "kernelName": "pwsh"
    }
   },
   "outputs": [],
   "source": [
    "#using the custom alias property\n",
    "$r | sort total -descending |\n",
    "Select -first 10 -property Extension,Total,*Size,Path,Computername |\n",
    "ConvertTo-JSON"
   ]
  },
  {
   "cell_type": "code",
   "execution_count": null,
   "metadata": {
    "polyglot_notebook": {
     "kernelName": "pwsh"
    }
   },
   "outputs": [],
   "source": [
    "#using the custom script property\n",
    "\n",
    "$r  | Sort Count -descending | Select Extension,Count,TotalKB -first 10"
   ]
  },
  {
   "cell_type": "markdown",
   "metadata": {},
   "source": [
    "### Going Further\n",
    "\n",
    "- The function needs error handling\n",
    "- Add support for `Write-Progress`\n",
    "- Property sets\n",
    "- Additional formatted views\n",
    "- Think locally, act globally"
   ]
  },
  {
   "cell_type": "markdown",
   "metadata": {},
   "source": [
    "## TL;DR\n",
    "\n",
    "<details><summary><b>Summary</b></summary>\n",
    "<details><summary><i><b>Consider</b></i></summary>\n",
    "\n",
    "- Consider *who* will be using your PowerShell code and *how* they will be using it.\n",
    "- *How* might they want to use it in the future or consider edge cases.\n",
    "\n",
    "<details><Summary><i><b>Don't Assume</b></i></summary>\n",
    "\n",
    "- __Don't assume__ the user knows what you know or will run your command the way you do.\n",
    "\n",
    "<details><Summary><i><b>All About the Object</b></i></summary>\n",
    "\n",
    "- Create rich, *meaningful* objects to the pipeline formatted with <u>maximum</u> information.\n",
    "\n",
    "<details><Summary><i><b>User First</b></i></summary>\n",
    "\n",
    "- Write PowerShell tools that are elegant, efficient, effortless for the __user__.\n",
    "- *__Design__* your command with people in mind. We're not generating code.\n",
    "\n",
    "<details><Summary><i><b>PowerShell Scripting is a Craft</b></i></summary>\n",
    "\n",
    "- *__Craft code__* for the next person to maintain, it could be you in six months.\n",
    "- __Behind the PowerShell Pipeline__ (https://leanpub.com/behind-the-pspipeline)\n",
    "\n",
    "![Behind the PowerShell Pipeline](images/behind.png)\n",
    "</details>"
   ]
  },
  {
   "cell_type": "markdown",
   "metadata": {},
   "source": [
    "## Questions or Comments?\n",
    "\n",
    "<img src=\"images\\pexels-pixabay-208494.jpg\" alt=\"Q and A\" width=\"45%\" height=\"45%\" style=\"padding-right: 50px ;padding-bottom: 25px; padding-left: 300px\"/>"
   ]
  },
  {
   "cell_type": "markdown",
   "metadata": {},
   "source": [
    "## Thank You!\n",
    "\n",
    "<img src=\"images\\jeff-hicks.jpg\" style=\"padding-left:275px;\" width=\"45%\" height=\"45%\" alt=\"Jeff and Journey\">\n",
    "\n",
    "### https://jdhitsolutions.github.io"
   ]
  }
 ],
 "metadata": {
  "kernelspec": {
   "display_name": ".NET (PowerShell)",
   "language": "PowerShell",
   "name": ".net-pwsh"
  },
  "language_info": {
   "name": "polyglot-notebook"
  },
  "polyglot_notebook": {
   "kernelInfo": {
    "defaultKernelName": "pwsh",
    "items": [
     {
      "aliases": [],
      "languageName": "pwsh",
      "name": "pwsh"
     }
    ]
   }
  }
 },
 "nbformat": 4,
 "nbformat_minor": 2
}
