{
 "cells": [
  {
   "cell_type": "markdown",
   "id": "07b6c0e6",
   "metadata": {
    "author": "Jeffery Hicks",
    "tags": [
     "powershell",
     "psconfeu"
    ]
   },
   "source": [
    "# Super Charging Objects in the Pipeline"
   ]
  },
  {
   "cell_type": "markdown",
   "id": "86748502",
   "metadata": {},
   "source": [
    "## PowerShell Conference Europe 2025 \n",
    "<img src=\"images/flag.jpg\" style=\"width:20%;height:20%;\" alt=\"Swedish flag\">\n",
    "\n",
    "### Jeff Hicks\n",
    "\n",
    "<div style = \"background-color:rgb(226, 220, 220); padding-bottom: 25px;padding-top:10px;padding-left: 10px; padding-right: 10px; width:60%\">\n",
    "<img src=\"images/hicks.png\" alt=\"Jeff Hicks\" align=\"left\" vertical-align=\"top\" style=\"padding-right: 10px ;padding-bottom: 25px;\"/>\n",
    "\n",
    "- 35-year IT Professional\n",
    "- 19-year Microsoft MVP\n",
    "- PowerShell Author \n",
    "- PowerShell Teacher\n",
    "- https://jdhitsolutions.github.io\n",
    "  \n",
    "### ![MVP Logo](images/mvp-logo.png)"
   ]
  },
  {
   "cell_type": "markdown",
   "id": "801d4d85",
   "metadata": {},
   "source": [
    "![Sponsors](images/psconfeu-sponsors.png)"
   ]
  },
  {
   "cell_type": "markdown",
   "id": "a6ed01e3",
   "metadata": {},
   "source": [
    "## For Your Consideration\n",
    "\n",
    "- How will your object be consumed?\n",
    "  - Will it pass to another cmdlet?\n",
    "  - Viewed on the screen?\n",
    "- Could it be serialized? \n",
    "  - How will *that* be consumed?\n",
    "- Do you need to make your work in an interactive session more efficient?\n",
    "- What would *add value* for the user with __minimal__ effort on their part?"
   ]
  },
  {
   "cell_type": "markdown",
   "id": "5fed1a99",
   "metadata": {},
   "source": [
    "## Aliases\n",
    "\n",
    "PowerShell can be verbose or obscure. What are you working with?"
   ]
  },
  {
   "cell_type": "code",
   "execution_count": null,
   "id": "de855011",
   "metadata": {
    "polyglot_notebook": {
     "kernelName": "pwsh"
    }
   },
   "outputs": [],
   "source": [
    "Get-ChildItem c:\\temp -File | Select-Object Name,\n",
    "@{Name = 'Size'; Expression = { $_.length } },\n",
    "@{Name = 'Modified'; Expression = { $_.LastWriteTime } } -first 5"
   ]
  },
  {
   "cell_type": "markdown",
   "id": "f02e6668",
   "metadata": {},
   "source": [
    "Use `Update-TypeData` to extend what an object looks like.\n",
    "\n",
    "- Applies to all objects of the same type\n",
    "- Add aliases, properties, and methods\n",
    "- Only persistent for the session"
   ]
  },
  {
   "cell_type": "code",
   "execution_count": null,
   "id": "d9e8e9b1",
   "metadata": {
    "polyglot_notebook": {
     "kernelName": "pwsh"
    }
   },
   "outputs": [],
   "source": [
    "$params = @{\n",
    "    TypeName   = 'System.IO.FileInfo'\n",
    "    MemberType = 'AliasProperty'\n",
    "    MemberName = 'Size'\n",
    "    Value      = 'Length'\n",
    "    Force      = $True\n",
    "}\n",
    "Update-TypeData @params\n",
    "\n",
    "$params.MemberName = 'Modified'\n",
    "$params.Value = 'LastWriteTime'\n",
    "Update-TypeData @params"
   ]
  },
  {
   "cell_type": "code",
   "execution_count": null,
   "id": "1e25b58c",
   "metadata": {
    "polyglot_notebook": {
     "kernelName": "pwsh"
    }
   },
   "outputs": [],
   "source": [
    "#this might be useful if serializing\n",
    "$params.MemberType = 'NoteProperty'\n",
    "$params.MemberName = 'Computername'\n",
    "$params.Value = [System.Environment]::MachineName\n",
    "Update-TypeData @params"
   ]
  },
  {
   "cell_type": "code",
   "execution_count": null,
   "id": "55f65560",
   "metadata": {
    "polyglot_notebook": {
     "kernelName": "pwsh"
    }
   },
   "outputs": [],
   "source": [
    "#this is much easier to type and read\n",
    "Get-ChildItem c:\\temp -File |\n",
    "Select-Object Directory, Name, Size, Modified, ComputerName -first 5 |\n",
    "Format-Table"
   ]
  },
  {
   "cell_type": "markdown",
   "id": "31206f3e",
   "metadata": {},
   "source": [
    "## Script Properties"
   ]
  },
  {
   "cell_type": "code",
   "execution_count": null,
   "id": "e5f10a94",
   "metadata": {
    "polyglot_notebook": {
     "kernelName": "pwsh"
    }
   },
   "outputs": [],
   "source": [
    "Get-ChildItem c:\\temp -File | Where-Object size -GT 500 |\n",
    "Select-Object Name, Modified,\n",
    "@{Name = 'ModifiedAge'; Expression = {New-TimeSpan -Start $_.LastWriteTime -End (Get-Date)}},\n",
    "@{Name = 'SizeKB'; Expression = { $_.size / 1kb } }"
   ]
  },
  {
   "cell_type": "code",
   "execution_count": null,
   "id": "aa758bec",
   "metadata": {
    "polyglot_notebook": {
     "kernelName": "pwsh"
    }
   },
   "outputs": [],
   "source": [
    "#Define a calculated script ScriptProperty for ModifiedAge\n",
    "$params = @{\n",
    "    TypeName   = 'System.IO.FileInfo'\n",
    "    MemberType = 'ScriptProperty'\n",
    "    MemberName = 'ModifiedAge'\n",
    "    Value      = { New-TimeSpan -Start $this.LastWriteTime -End (Get-Date) }\n",
    "    Force      = $True\n",
    "}\n",
    "Update-TypeData @params"
   ]
  },
  {
   "cell_type": "code",
   "execution_count": null,
   "id": "89823efb",
   "metadata": {
    "polyglot_notebook": {
     "kernelName": "pwsh"
    }
   },
   "outputs": [],
   "source": [
    "#create a second for SizeKB\n",
    "$params.MemberName = 'SizeKB'\n",
    "$params.value = { $this.Length / 1KB }\n",
    "Update-TypeData @params"
   ]
  },
  {
   "cell_type": "code",
   "execution_count": null,
   "id": "29c94bb1",
   "metadata": {
    "polyglot_notebook": {
     "kernelName": "pwsh"
    }
   },
   "outputs": [],
   "source": [
    "#use them\n",
    "Get-ChildItem c:\\temp -File | Where-Object size -GT 500 |\n",
    "Select-Object Name, Size, SizeKB, Modified, ModifiedAge, Computername -First 7 | Format-Table"
   ]
  },
  {
   "cell_type": "code",
   "execution_count": null,
   "id": "32cad83e",
   "metadata": {
    "polyglot_notebook": {
     "kernelName": "pwsh"
    }
   },
   "outputs": [],
   "source": [
    "#script property code should run quickly but can be rich as you need\n",
    "$test = {\n",
    "    #test on the extension without the period\n",
    "    If ($this.Extension) {\n",
    "        Switch -regex ($this.Extension.Substring(1)) {\n",
    "            '^ps(d)?1(xml)?' { 'PowerShell' }\n",
    "            '^(bmp|jp(e)?g|png|gif|tiff)' { 'Image' }\n",
    "            '^(mp3|mp4|m4v)' { 'Media' }\n",
    "            '^(xml|json|csv|yml|yaml)' { 'Data' }\n",
    "            '^(md|pdf|doc(x)?|htm(l)?|txt)' { 'Document' }\n",
    "            '^(zip|tar|gz|bz2|7z)' { 'Archive' }\n",
    "            '^(exe|dll|bat|cmd|com|pdb)' { 'System' }\n",
    "            default { 'File' }\n",
    "        }\n",
    "    }\n",
    "    else {\n",
    "        'NULL'\n",
    "    }\n",
    "}\n",
    "\n",
    "$params = @{\n",
    "    TypeName   = 'System.IO.FileInfo'\n",
    "    MemberType = 'ScriptProperty'\n",
    "    MemberName = 'Category'\n",
    "    Value      = $test\n",
    "    Force      = $True\n",
    "}\n",
    "Update-TypeData @params"
   ]
  },
  {
   "cell_type": "code",
   "execution_count": null,
   "id": "21cb7f17",
   "metadata": {
    "polyglot_notebook": {
     "kernelName": "pwsh"
    }
   },
   "outputs": [],
   "source": [
    "Get-ChildItem c:\\temp -File | Group-Object category"
   ]
  },
  {
   "cell_type": "markdown",
   "id": "0d4233bd",
   "metadata": {},
   "source": [
    "## Property Sets"
   ]
  },
  {
   "cell_type": "code",
   "execution_count": null,
   "id": "91dc6a1a",
   "metadata": {
    "polyglot_notebook": {
     "kernelName": "pwsh"
    }
   },
   "outputs": [],
   "source": [
    "Get-ChildItem c:\\temp -File |\n",
    "Select-Object FullName, Size, CreationTime, Modified, ModifiedAge -first 7 | Format-Table"
   ]
  },
  {
   "cell_type": "markdown",
   "id": "11c31514",
   "metadata": {},
   "source": [
    "- A property set is a defined collection of properties\n",
    "- Can be referenced by name\n",
    "- Defined in a .ps1xml file\n",
    "- Use https://github.com/jdhitsolutions/PSTypeExtensionTools"
   ]
  },
  {
   "cell_type": "markdown",
   "metadata": {
    "polyglot_notebook": {
     "kernelName": "pwsh"
    }
   },
   "source": [
    "```powershell\n",
    "$paramHash = @{\n",
    "    Name       = 'AgeInfo'\n",
    "    TypeName   = 'System.IO.FileInfo'\n",
    "    Properties = 'FullName','Size','CreationTime','Modified','ModifiedAge'\n",
    "    FilePath   = '.\\jhFileinfo.types.ps1xml'\n",
    "}\n",
    "New-PSPropertySet @paramHash\n",
    "```"
   ]
  },
  {
   "cell_type": "markdown",
   "id": "e0fa7ac6",
   "metadata": {},
   "source": [
    "```xml\n",
    "<Types>\n",
    "  <Type>\n",
    "    <Name>System.IO.FileInfo</Name>\n",
    "    <Members>\n",
    "      <PropertySet>\n",
    "        <Name>AgeInfo</Name>\n",
    "        <ReferencedProperties>\n",
    "          <Name>FullName</Name>\n",
    "          <Name>Size</Name>\n",
    "          <Name>CreationTime</Name>\n",
    "          <Name>Modified</Name>\n",
    "          <Name>ModifiedAge</Name>\n",
    "        </ReferencedProperties>\n",
    "      </PropertySet>\n",
    "    </Members>\n",
    "  </Type>\n",
    "</Types>\n",
    "```"
   ]
  },
  {
   "cell_type": "code",
   "execution_count": null,
   "id": "4b2a4847",
   "metadata": {
    "polyglot_notebook": {
     "kernelName": "pwsh"
    }
   },
   "outputs": [],
   "source": [
    "Update-TypeData -AppendPath .\\jhFileinfo.types.ps1xml"
   ]
  },
  {
   "cell_type": "code",
   "execution_count": null,
   "id": "78d6f817",
   "metadata": {
    "polyglot_notebook": {
     "kernelName": "pwsh"
    }
   },
   "outputs": [],
   "source": [
    "Get-ChildItem -File | Get-Member -MemberType PropertySet"
   ]
  },
  {
   "cell_type": "code",
   "execution_count": null,
   "id": "2a8d467f",
   "metadata": {
    "polyglot_notebook": {
     "kernelName": "pwsh"
    }
   },
   "outputs": [],
   "source": [
    "Get-ChildItem c:\\temp -File | Select-Object AgeInfo -first 5 | Format-Table"
   ]
  },
  {
   "cell_type": "markdown",
   "id": "bc299cca",
   "metadata": {},
   "source": [
    "## Script Methods\n",
    "\n",
    "- When you want and object to do something\n",
    "- Do something *to* the object\n",
    "- You don't want to use a function"
   ]
  },
  {
   "cell_type": "code",
   "execution_count": null,
   "id": "1c865ffe",
   "metadata": {
    "polyglot_notebook": {
     "kernelName": "pwsh"
    }
   },
   "outputs": [],
   "source": [
    "# avoid using parameters\n",
    "# Notice $this and not $_\n",
    "$zip = {\n",
    "    Param([string]$Destination = $this.Directory)\n",
    "    $target = Join-Path -Path $Destination -ChildPath \"$($this.baseName).zip\"\n",
    "    $paramHash = @{\n",
    "        Path             = $this.FullName\n",
    "        DestinationPath  = $target\n",
    "        CompressionLevel = 'Optimal'\n",
    "        Force            = $True\n",
    "        PassThru         = $True\n",
    "    }\n",
    "\n",
    "    Compress-Archive @paramHash\n",
    "}\n",
    "\n",
    "$params = @{\n",
    "    TypeName   = 'System.IO.FileInfo'\n",
    "    MemberType = 'ScriptMethod'\n",
    "    MemberName = 'Zip'\n",
    "    Value      = $zip\n",
    "    Force      = $True\n",
    "}\n",
    "Update-TypeData @params"
   ]
  },
  {
   "cell_type": "code",
   "execution_count": null,
   "id": "ef23e6ba",
   "metadata": {
    "polyglot_notebook": {
     "kernelName": "pwsh"
    }
   },
   "outputs": [],
   "source": [
    "Get-ChildItem c:\\temp -File | Get-Member zip"
   ]
  },
  {
   "cell_type": "code",
   "execution_count": null,
   "id": "c6993ffc",
   "metadata": {
    "polyglot_notebook": {
     "kernelName": "pwsh"
    }
   },
   "outputs": [],
   "source": [
    "Get-ChildItem c:\\temp -File | Where-Object size -ge 1mb | ForEach-Object { $_.zip() }"
   ]
  },
  {
   "cell_type": "code",
   "execution_count": null,
   "id": "63163896",
   "metadata": {
    "polyglot_notebook": {
     "kernelName": "pwsh"
    }
   },
   "outputs": [],
   "source": [
    "#I can use parameter since I know about it. Not easily discoverable.\n",
    "Get-ChildItem c:\\temp -File | Where-Object size -ge 1mb | ForEach-Object { $_.zip('c:\\work') }"
   ]
  },
  {
   "cell_type": "markdown",
   "id": "28db3eee",
   "metadata": {},
   "source": [
    "## Custom Formatting\n",
    "\n",
    "- Needs a custom format file defined in a ps1xml file\n",
    "- Can create multiple views of the same object"
   ]
  },
  {
   "cell_type": "code",
   "execution_count": null,
   "id": "8b24b12a",
   "metadata": {
    "polyglot_notebook": {
     "kernelName": "pwsh"
    }
   },
   "outputs": [],
   "source": [
    "#Windows PowerShell\n",
    "powershell.exe -noprofile -nologo -command 'Get-ChildItem $pshome\\*.format.ps1xml'"
   ]
  },
  {
   "cell_type": "markdown",
   "id": "dc8af5d4",
   "metadata": {},
   "source": [
    "- Format files internalized in PowerShell 7\n",
    "- Create your own format.ps1xml files\n",
    "- https://github.com/jdhitsolutions/PSScriptTools/blob/main/docs/New-PSFormatXML.md\n",
    "- Need a sample object with values for any property you want to use."
   ]
  },
  {
   "cell_type": "markdown",
   "id": "1ffd1f13",
   "metadata": {},
   "source": [
    "### Requirements\n",
    "\n",
    "Your custom object must have a defined and __unique type__ name. It cannot be a generic PSCustomObject. \n",
    "\n",
    "```XML\n",
    "<ViewSelectedBy>\n",
    "    <TypeName>OBJECT.TYPE</TypeName>\n",
    "</ViewSelectedBy>\n",
    "```\n",
    "\n",
    "I typically do this when creating custom objects:\n",
    "\n",
    "```powershell\n",
    "[PSCustomObject]@{\n",
    "    PSTypeName   = \"PSFoo\"  #<--- unique type name\n",
    "    Name         = $env:USERNAME\n",
    "    ComputerName = $env:COMPUTERNAME\n",
    "    Status       = 'Online'\n",
    "    ID           = 32345\n",
    "    PSVersion    = $PSVersionTable.PSVersion\n",
    "}\n",
    "```\n",
    "\n",
    "PowerShell classes are defined with a type name.\n",
    "\n",
    "```powershell\n",
    "class PSFoo {\n",
    "    [string]$Name\n",
    "    [string]$ComputerName\n",
    "    [string]$Status\n",
    "    [int]$ID\n",
    "    [version]$PSVersion\n",
    "}\n",
    "```\n",
    "\n",
    "Or, you can insert a type name into an existing object.\n",
    "\n",
    "```powershell\n",
    "$out.PSObject.TypeNames.Insert(0,\"PSFoo\")\n",
    "```"
   ]
  },
  {
   "cell_type": "markdown",
   "id": "124695bb",
   "metadata": {},
   "source": [
    "```powershell\n",
    "$paramHash = @{\n",
    "    GroupBy    = 'Directory'\n",
    "    Properties = 'Name', 'Size', 'CreationTime', 'Modified', 'ModifiedAge'\n",
    "    viewName   = 'AgeInfo'\n",
    "    formatType = 'Table'\n",
    "    Path       = '.\\jhFileInfo.format.ps1xml'\n",
    "}\n",
    "\n",
    "Get-Item C:\\temp\\a.jpg | New-PSFormatXML @paramHash\n",
    "```"
   ]
  },
  {
   "cell_type": "code",
   "execution_count": null,
   "id": "b0c3d5ef",
   "metadata": {
    "polyglot_notebook": {
     "kernelName": "pwsh"
    }
   },
   "outputs": [],
   "source": [
    "# I customized the file even further\n",
    "code .\\jhFileInfo.format.ps1xml"
   ]
  },
  {
   "cell_type": "code",
   "execution_count": null,
   "id": "dfed07fe",
   "metadata": {
    "polyglot_notebook": {
     "kernelName": "pwsh"
    }
   },
   "outputs": [],
   "source": [
    "Update-FormatData -AppendPath .\\jhFileInfo.format.ps1xml"
   ]
  },
  {
   "cell_type": "code",
   "execution_count": null,
   "id": "eda86e2b",
   "metadata": {
    "polyglot_notebook": {
     "kernelName": "pwsh"
    }
   },
   "outputs": [],
   "source": [
    "dir c:\\temp -file | Format-Table -view AgeInfo"
   ]
  },
  {
   "cell_type": "markdown",
   "id": "4dab9779",
   "metadata": {},
   "source": [
    "## Extending Your Work\n",
    "\n",
    "```powershell\n",
    "#requires -version 7.4\n",
    "#requires -module CimCmdlets\n",
    "#requires -module SmbShare\n",
    "\n",
    "#the function assumes your credential has admin rights on any remote computer\n",
    "Function Get-ServerDetail {\n",
    "    [cmdletbinding()]\n",
    "    [OutputType('PSServerDetail')]\n",
    "    Param(\n",
    "        [Parameter(Position = 0, ValueFromPipeline)]\n",
    "        [ValidateNotNullOrEmpty()]\n",
    "        [Alias('CN')]\n",
    "        [string]$Computername = $env:computername\n",
    "    )\n",
    "\n",
    "    Begin {\n",
    "        Write-Verbose \"Starting $($MyInvocation.MyCommand)\"\n",
    "    } #begin\n",
    "\n",
    "    Process {\n",
    "        #create a temporary CimSession\n",
    "        Try {\n",
    "            Write-Verbose \"Creating a temporary CimSession for $($Computername.ToUpper())\"\n",
    "            $cs = New-CimSession -ComputerName $Computername -ErrorAction Stop\n",
    "        }\n",
    "        Catch {\n",
    "            Write-Warning \"Failed to create a CimSession for $($Computername.ToUpper()). $($_.Exception.Message)\"\n",
    "        }\n",
    "        If ($cs) {\n",
    "            Write-Verbose \"Getting operating system information for $($Computername.ToUpper())\"\n",
    "            $os = Get-CimInstance -ClassName Win32_OperatingSystem -CimSession $cs\n",
    "            Write-Verbose \"Getting shares for $($Computername.ToUpper())\"\n",
    "            #ignore errors if there are no shares\n",
    "            $shares = Get-SmbShare -CimSession $Computername -Special $False -ErrorAction SilentlyContinue\n",
    "            #get services\n",
    "            Write-Verbose \"Getting running services for $($Computername.ToUpper())\"\n",
    "            $svc = Get-CimInstance -ClassName Win32_Service -CimSession $cs -Filter \"State = 'Running'\"\n",
    "\n",
    "            Write-Verbose \"Creating a custom server object for $($Computername.ToUpper())\"\n",
    "            [PSCustomObject]@{\n",
    "                PSTypeName       = 'PSServerDetail'\n",
    "                Computername     = $os.CSName\n",
    "                OperatingSystem  = $os.Caption\n",
    "                InstallDate      = $os.InstallDate\n",
    "                Memory           = $os.TotalVisibleMemorySize\n",
    "                FreeMemory       = $os.FreePhysicalMemory\n",
    "                RunningProcesses = $os.NumberOfProcesses - 2  #subtract System and Idle processes\n",
    "                RunningServices  = $svc.Count\n",
    "                LastBoot         = $os.LastBootUpTime\n",
    "                Shares           = $shares\n",
    "            }\n",
    "            Write-Verbose \"Removing temporary CimSession for $($Computername.ToUpper())\"\n",
    "            Remove-CimSession -CimSession $cs\n",
    "        } #If CimSession\n",
    "    } #process\n",
    "\n",
    "    End {\n",
    "        Write-Verbose \"Ending $($MyInvocation.MyCommand)\"\n",
    "    } #end\n",
    "\n",
    "} #close function\n",
    "\n",
    "#Extending type data\n",
    "$splat = @{\n",
    "    TypeName   = 'PSServerDetail'\n",
    "    MemberType = 'ScriptProperty'\n",
    "    MemberName = $Null\n",
    "    Value      = $null\n",
    "    Force      = $True\n",
    "}\n",
    "\n",
    "$splat.MemberName = 'Uptime'\n",
    "$splat.Value = { New-TimeSpan -Start $this.LastBoot -End (Get-Date) }\n",
    "Update-TypeData @splat\n",
    "\n",
    "$splat.MemberType = 'NoteProperty'\n",
    "$splat.MemberName = 'AuditDate'\n",
    "$splat.Value = (Get-Date)\n",
    "Update-TypeData @splat\n",
    "\n",
    "$splat.MemberType = 'AliasProperty'\n",
    "$splat.MemberName = 'OS'\n",
    "$splat.Value = 'OperatingSystem'\n",
    "Update-TypeData @splat\n",
    "#load my custom format file\n",
    "Update-FormatData $PSScriptRoot\\PSServerDetail.format.ps1xml\n",
    "```"
   ]
  },
  {
   "cell_type": "markdown",
   "id": "07245ddc",
   "metadata": {},
   "source": [
    "```powershell\n",
    "PS C:\\> Get-ServerDetail DOM1 | Select *\n",
    "\n",
    "Computername     : DOM1\n",
    "OperatingSystem  : Microsoft Windows Server 2019 Standard Evaluation\n",
    "InstallDate      : 5/16/2025 12:57:23 PM\n",
    "Memory           : 2540480\n",
    "FreeMemory       : 943264\n",
    "RunningProcesses : 46\n",
    "RunningServices  : 75\n",
    "LastBoot         : 5/16/2025 1:10:25 PM\n",
    "Shares           : {MSFT_SmbShare (Name = \"NETLOGON\", ScopeName = \"*\"), MSFT_SmbShare (Name = \"...}\n",
    "Uptime           : 12.00:37:47.2519904\n",
    "AuditDate        : 5/28/2025 1:47:01 PM\n",
    "OS               : Microsoft Windows Server 2019 Standard Evaluation\n",
    "```"
   ]
  },
  {
   "cell_type": "markdown",
   "id": "eb841210",
   "metadata": {},
   "source": [
    "Here's an example from my test domain that better displays the custom formatting.\n",
    "\n",
    "![Get-ServerDetail Formatting](images/get-serverdetail.png)\n",
    "\n",
    "I think this is easier to read and more informative than the default table view."
   ]
  },
  {
   "cell_type": "markdown",
   "id": "37b24061",
   "metadata": {},
   "source": [
    "### Alternate Views\n",
    "\n",
    "![Memory](images/memory-view.png)\n",
    "\n",
    "![default list view](images/serverdetail-list.png)"
   ]
  },
  {
   "cell_type": "markdown",
   "id": "fa46351f",
   "metadata": {},
   "source": [
    "## Modules and Custom Formats\n",
    "\n",
    "For stand-alone functions I typically insert this code at the end of the script.\n",
    "\n",
    "```powershell\n",
    "Update-FormatData -AppendPath $PSScriptRoot\\PSServerDetail.format.ps1xml\n",
    "```\n",
    "\n",
    "For modules, I typically store format files in a subfolder. I load them in the module manifest. This is from the [PSBluesky module]( https://github.com/jdhitsolutions/PSBluesky)\n",
    "\n",
    "```JSON\n",
    "FormatsToProcess     = @(\n",
    "    'formats\\PSBlueSkyTimelinePost.format.ps1xml',\n",
    "    'formats\\PSBlueskyBlockedUser.format.ps1xml',\n",
    "    'formats\\PSBlueskyBlockedList.format.ps1xml',\n",
    "    'formats\\PSBlueskyProfile.format.ps1xml',\n",
    "    'formats\\PSBlueskyFollower.format.ps1xml',\n",
    "    'formats\\PSBlueskyFeed.format.ps1xml',\n",
    "    'formats\\PSBlueskyLiked.format.ps1xml',\n",
    "    'formats\\PSBlueskySession.format.ps1xml',\n",
    "    'formats\\PSBlueskyNotification.format.ps1xml',\n",
    "    'formats\\PSBlueskySearchResult.format.ps1xml',\n",
    "    'formats\\PSBlueskyModuleInfo.format.ps1xml'\n",
    ")\n",
    "```\n",
    "\n",
    "The same is true for type extensions.\n",
    "\n",
    "```powershell\n",
    "TypesToProcess       = @(\n",
    "    'types/PSBlueSky.types.ps1xml'\n",
    ")\n",
    "```"
   ]
  },
  {
   "cell_type": "markdown",
   "id": "bce06c33",
   "metadata": {},
   "source": [
    "## Other Module Examples\n",
    "\n",
    "- [PSProjectStatus](https://github.com/jdhitsolutions/PSProjectStatus/tree/main/formats)\n",
    "\n",
    "![Get-PSProjectStatus](images/get-psprojectstatus.png)\n",
    "\n",
    "- [AD Reporting Tools](https://github.com/jdhitsolutions/ADReportingTools/tree/main/formats)\n",
    "\n",
    "![Get-ADDomainControllerHealth](images/get-dchealth.png)\n",
    "\n",
    "- [PSWorkItem](https://github.com/jdhitsolutions/PSWorkItem/tree/main/formats)\n",
    "\n",
    "![Get-PSWorkItemCategory](images/get-psworkitemcategory.png)"
   ]
  },
  {
   "cell_type": "markdown",
   "id": "b7d87e27",
   "metadata": {},
   "source": [
    "## Questions and Answers\n",
    "\n",
    "### *What else do you need to know to make PowerShell do more?*\n",
    "\n",
    "\n"
   ]
  },
  {
   "cell_type": "markdown",
   "id": "44380d13",
   "metadata": {},
   "source": [
    "\n",
    "### [https://jdhitsolutions.github.io](https://jdhitsolutions.github.io)\n",
    "\n",
    "![Photo by Ann H: https://www.pexels.com/photo/brown-wooden-letter-blocks-6732759/](images/pexels-ann-h-45017-6732759.jpg)"
   ]
  }
 ],
 "metadata": {
  "kernelspec": {
   "display_name": ".NET (PowerShell)",
   "language": "PowerShell",
   "name": ".net-pwsh"
  },
  "polyglot_notebook": {
   "kernelInfo": {
    "defaultKernelName": "pwsh",
    "items": [
     {
      "aliases": [],
      "languageName": "pwsh",
      "name": "pwsh"
     }
    ]
   }
  }
 },
 "nbformat": 4,
 "nbformat_minor": 5
}
